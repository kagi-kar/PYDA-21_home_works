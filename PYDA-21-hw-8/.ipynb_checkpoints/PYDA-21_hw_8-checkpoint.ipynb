{
 "cells": [
  {
   "cell_type": "markdown",
   "metadata": {},
   "source": [
    "# Домашнее задание"
   ]
  },
  {
   "cell_type": "markdown",
   "metadata": {},
   "source": [
    "<a id='contents'></a>\n",
    "## Оглавление:\n",
    "### [Задание 1](#task1)\n",
    "Напишите функцию, которая возвращает название валюты (поле ‘Name’) с максимальным значением курса с помощью сервиса https://www.cbr-xml-daily.ru/daily_json.js\n",
    "### [Задание 2](#task2)\n",
    "Добавьте в класс Rate параметр diff (со значениями True или False), который в случае значения True в методах курсов валют (eur, usd итд) будет возвращать не курс валюты, а изменение по сравнению в прошлым значением. Считайте, self.diff будет принимать значение True только при возврате значения курса. При отображении всей информации о валюте он не используется.\n",
    "### [Задание 3](#task3)\n",
    "Напишите класс Designer, который учитывает количество международных премий. Подсказки в коде занятия в разделе “Домашнее задание задача 3”.  \n",
    "__Комментарий по классу Designer такой:__\n",
    "Напишите класс Designer, который учитывает количество международных премий для дизайнеров (из презентации: “Повышение на 1 грейд за каждые 7 баллов. Получение международной премии – это +2 балла”). Считайте, что при выходе на работу сотрудник уже имеет две премии и их количество не меняется со стажем (конечно если хотите это можно вручную менять).\n",
    "\n",
    "Класс Designer пишется по аналогии с классом Developer из материалов занятия. Комментарий про его условия Вика написала выше: “Повышение на 1 грейд за каждые 7 баллов. Получение международной премии – это +2 балла”"
   ]
  },
  {
   "cell_type": "markdown",
   "metadata": {},
   "source": [
    "<a id='task1'></a>\n",
    "## Задание 1"
   ]
  },
  {
   "cell_type": "code",
   "execution_count": 15,
   "metadata": {},
   "outputs": [],
   "source": [
    "def max_currency():\n",
    "    \n",
    "    import requests\n",
    "    \n",
    "    max_value = 0\n",
    "    max_name = ''\n",
    "    \n",
    "    '''\n",
    "    Функция, которая возвращает название валюты\n",
    "    с максимальным значением курса с помощью сервиса\n",
    "    https://www.cbr-xml-daily.ru/daily_json.js\n",
    "    '''\n",
    "\n",
    "    in_data = requests.get('https://www.cbr-xml-daily.ru/daily_json.js')\n",
    "    for curent_data in in_data.json()['Valute'].values():\n",
    "        if curent_data.get('Value') >= max_value:\n",
    "            max_name = curent_data.get('Name')\n",
    "            max_value = curent_data.get('Value')\n",
    "    return max_name"
   ]
  },
  {
   "cell_type": "code",
   "execution_count": 16,
   "metadata": {
    "scrolled": true
   },
   "outputs": [
    {
     "data": {
      "text/plain": [
       "'СДР (специальные права заимствования)'"
      ]
     },
     "execution_count": 16,
     "metadata": {},
     "output_type": "execute_result"
    }
   ],
   "source": [
    "max_currency()"
   ]
  },
  {
   "cell_type": "markdown",
   "metadata": {},
   "source": [
    "[к оглавлению](#contents)"
   ]
  },
  {
   "cell_type": "markdown",
   "metadata": {},
   "source": [
    "<a id='task2'></a>\n",
    "## Задание 2"
   ]
  },
  {
   "cell_type": "code",
   "execution_count": 83,
   "metadata": {},
   "outputs": [],
   "source": [
    "from libs.exchange import Rate"
   ]
  },
  {
   "cell_type": "code",
   "execution_count": 205,
   "metadata": {},
   "outputs": [],
   "source": [
    "class DiffCurrency(Rate):\n",
    "    def __init__(self, format_ = 'value', diff = False):\n",
    "        super().__init__(format_)\n",
    "        self.format = format_\n",
    "        self.diff = diff\n",
    "        \n",
    "    \n",
    "    def check_in(self):\n",
    "        \"\"\"\n",
    "        Проверяет вводные параметры; если format_ = value, а diff = True генерирует True для\n",
    "        последующих методов, позволяющих вернуть изменение курса соответствующей валюты по сравнению\n",
    "        с прошлым значением\n",
    "        \"\"\"\n",
    "        if self.format == 'value' and self.diff:\n",
    "            return True\n",
    "        else:\n",
    "            return False\n",
    "    \n",
    "    def prev_value(self, currency):\n",
    "        \"\"\"\n",
    "        Возвращает информацию о курсе валюты currency на предыдущую дату\n",
    "        \"\"\"\n",
    "        response = self.exchange_rates()\n",
    "        \n",
    "        if currency in response:\n",
    "            return response[currency]['Previous']\n",
    "        return 'Error'\n",
    "               \n",
    "    def eur(self):\n",
    "        \"\"\"\n",
    "        Возвращает курс евро на сегодня в формате self.format или\n",
    "        его изменение по сравнению с прошлым значением, если параметр\n",
    "        format_ = value, а diff = True\n",
    "        \"\"\"\n",
    "        if self.check_in():\n",
    "            return round(self.make_format('EUR') - self.prev_value('EUR'), 3)\n",
    "        else:\n",
    "            return self.make_format('EUR')\n",
    "    \n",
    "    def usd(self):\n",
    "        \"\"\"\n",
    "        Возвращает курс евро на сегодня в формате self.format или\n",
    "        его изменение по сравнению с прошлым значением, если параметр\n",
    "        format_ = value, а diff = True\n",
    "        \"\"\"\n",
    "        if self.check_in():\n",
    "            return round(self.make_format('USD') - self.prev_value('USD'), 3)        \n",
    "        else:\n",
    "            return self.make_format('USD')\n",
    "\n",
    "    def AZN(self):\n",
    "        \"\"\"\n",
    "        Возвращает курс евро на сегодня в формате self.format или\n",
    "        его изменение по сравнению с прошлым значением, если параметр\n",
    "        format_ = value, а diff = True\n",
    "        \"\"\"\n",
    "        if self.check_in():\n",
    "            return round(self.make_format('AZN') - self.prev_value('AZN'), 3)       \n",
    "        else:\n",
    "            return self.make_format('AZN')"
   ]
  },
  {
   "cell_type": "markdown",
   "metadata": {},
   "source": [
    "включаем режим выгружки полной информации по курсам валют"
   ]
  },
  {
   "cell_type": "code",
   "execution_count": 207,
   "metadata": {},
   "outputs": [],
   "source": [
    "a = DiffCurrency('full', True)"
   ]
  },
  {
   "cell_type": "code",
   "execution_count": 208,
   "metadata": {},
   "outputs": [
    {
     "data": {
      "text/plain": [
       "{'ID': 'R01235',\n",
       " 'NumCode': '840',\n",
       " 'CharCode': 'USD',\n",
       " 'Nominal': 1,\n",
       " 'Name': 'Доллар США',\n",
       " 'Value': 73.4979,\n",
       " 'Previous': 73.2411}"
      ]
     },
     "execution_count": 208,
     "metadata": {},
     "output_type": "execute_result"
    }
   ],
   "source": [
    "a.usd()"
   ]
  },
  {
   "cell_type": "code",
   "execution_count": 209,
   "metadata": {},
   "outputs": [],
   "source": [
    "a = DiffCurrency('value', True)"
   ]
  },
  {
   "cell_type": "markdown",
   "metadata": {},
   "source": [
    "включаем режим выгрузки именения курса валюты по сравнению с прошлым периодом"
   ]
  },
  {
   "cell_type": "code",
   "execution_count": 210,
   "metadata": {},
   "outputs": [
    {
     "data": {
      "text/plain": [
       "0.257"
      ]
     },
     "execution_count": 210,
     "metadata": {},
     "output_type": "execute_result"
    }
   ],
   "source": [
    "a.usd()"
   ]
  },
  {
   "cell_type": "markdown",
   "metadata": {},
   "source": [
    "[к оглавлению](#contents)"
   ]
  },
  {
   "cell_type": "markdown",
   "metadata": {},
   "source": [
    "<a id='task3'></a>\n",
    "## Задание 3"
   ]
  },
  {
   "cell_type": "markdown",
   "metadata": {},
   "source": [
    "Копипаст из практики, для выполнения ДЗ:"
   ]
  },
  {
   "cell_type": "code",
   "execution_count": 259,
   "metadata": {},
   "outputs": [],
   "source": [
    "class Employee:\n",
    "    def __init__(self, name, seniority):\n",
    "        self.name = name\n",
    "        # стаж работы\n",
    "        self.seniority = seniority\n",
    "        # грейд (прием на работу начинается с 1-го грейда)\n",
    "        self.grade = 1\n",
    "    \n",
    "    def grade_up(self):\n",
    "        \"\"\"Повышает грейд сотрудника\"\"\"\n",
    "        self.grade += 1\n",
    "    \n",
    "    def publish_grade(self):\n",
    "        \"\"\"Публикация результатов аккредитации сотрудников\"\"\"\n",
    "        print(self.name, self.grade)"
   ]
  },
  {
   "cell_type": "markdown",
   "metadata": {},
   "source": [
    "Тело домашнего задания:"
   ]
  },
  {
   "cell_type": "code",
   "execution_count": 260,
   "metadata": {},
   "outputs": [],
   "source": [
    "class Designer(Employee):\n",
    "    def __init__(self, name, seniority, awards = 0):\n",
    "        # формально нам не требуется name, однако, чтобы воспользоваться переменной \n",
    "        # grade, нам необходимо описать все родительские переменные или явно задав им значения в\n",
    "        # super (через = ...) или указав, что переменная из родительской функции будет задана в дочерней (перечисляем ее в init дочерней);\n",
    "        # существует третий вариант - задавать переменную grade, однако в этом случае нам вообще не\n",
    "        # нужен тогда дочерний класс Designer и его можно задать как второй родительский\n",
    "        super().__init__(name, seniority)\n",
    "        self.name = name\n",
    "        # принимаем указанное число международных премий awards, добавляет к ним\n",
    "        # 2 премии, которые имеет любой принимаемый на работу дизайнер;\n",
    "        self.awards = awards + 2\n",
    "    \n",
    "    def check_if_it_is_time_for_upgrade(self):\n",
    "        '''\n",
    "        метод считает баллы:\n",
    "        - условно принимаем, что каждый год дизайнер проходит одну аккредитацию (= 1 балл);\n",
    "        - каждая премия равна 2 баллам\n",
    "        далее баллы используются для расчета возможности повышения грейда через self.grade_up()\n",
    "        '''\n",
    "        self.seniority += 1\n",
    "        \n",
    "        # условие повышения дизайнера\n",
    "        if (self.awards * 2 + self.seniority) % 7 == 0:\n",
    "            self.grade_up()\n",
    "        \n",
    "        # публикация результатов\n",
    "        return self.publish_grade()"
   ]
  },
  {
   "cell_type": "markdown",
   "metadata": {},
   "source": [
    "[к оглавлению](#contents)"
   ]
  },
  {
   "cell_type": "code",
   "execution_count": 288,
   "metadata": {},
   "outputs": [],
   "source": [
    "a = Designer('Николай', 0, 0)"
   ]
  },
  {
   "cell_type": "code",
   "execution_count": 289,
   "metadata": {},
   "outputs": [
    {
     "name": "stdout",
     "output_type": "stream",
     "text": [
      "имя: Николай, премий: 2, грейд: 1, стаж: 0\n"
     ]
    }
   ],
   "source": [
    "print (f'имя: {a.name}, премий: {a.awards}, грейд: {a.grade}, стаж: {a.seniority}')"
   ]
  },
  {
   "cell_type": "code",
   "execution_count": 290,
   "metadata": {},
   "outputs": [
    {
     "name": "stdout",
     "output_type": "stream",
     "text": [
      "Николай 1\n",
      "Николай 1\n",
      "Николай 2\n",
      "Николай 2\n",
      "Николай 2\n",
      "Николай 2\n",
      "Николай 2\n",
      "Николай 2\n",
      "Николай 2\n",
      "Николай 3\n",
      "Николай 3\n",
      "Николай 3\n",
      "Николай 3\n",
      "Николай 3\n",
      "Николай 3\n",
      "Николай 3\n",
      "Николай 4\n",
      "Николай 4\n",
      "Николай 4\n",
      "Николай 4\n"
     ]
    }
   ],
   "source": [
    "for i in range(20):\n",
    "    a.check_if_it_is_time_for_upgrade()"
   ]
  },
  {
   "cell_type": "code",
   "execution_count": 291,
   "metadata": {},
   "outputs": [
    {
     "name": "stdout",
     "output_type": "stream",
     "text": [
      "имя: Николай, премий: 2, грейд: 4, стаж: 20\n"
     ]
    }
   ],
   "source": [
    "print (f'имя: {a.name}, премий: {a.awards}, грейд: {a.grade}, стаж: {a.seniority}')"
   ]
  }
 ],
 "metadata": {
  "kernelspec": {
   "display_name": "Python 3",
   "language": "python",
   "name": "python3"
  },
  "language_info": {
   "codemirror_mode": {
    "name": "ipython",
    "version": 3
   },
   "file_extension": ".py",
   "mimetype": "text/x-python",
   "name": "python",
   "nbconvert_exporter": "python",
   "pygments_lexer": "ipython3",
   "version": "3.8.5"
  }
 },
 "nbformat": 4,
 "nbformat_minor": 4
}
