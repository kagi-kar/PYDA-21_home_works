{
 "cells": [
  {
   "cell_type": "markdown",
   "metadata": {},
   "source": [
    "# Домашнее задание к лекции «Управляющие конструкции и коллекции» часть 2"
   ]
  },
  {
   "cell_type": "markdown",
   "metadata": {},
   "source": [
    "# Задание 1"
   ]
  },
  {
   "cell_type": "markdown",
   "metadata": {},
   "source": [
    "Дана переменная, в которой хранится словарь, содержащий гео-метки для каждого пользователя (пример структуры данных приведен ниже). Вам необходимо написать программу, которая выведет на экран множество уникальных гео-меток всех пользователей."
   ]
  },
  {
   "cell_type": "code",
   "execution_count": 2,
   "metadata": {},
   "outputs": [],
   "source": [
    "ids = {'user1': [213, 213, 213, 15, 213],\n",
    "'user2': [54, 54, 119, 119, 119],\n",
    "'user3': [213, 98, 98, 35]}"
   ]
  },
  {
   "cell_type": "code",
   "execution_count": 26,
   "metadata": {},
   "outputs": [
    {
     "name": "stdout",
     "output_type": "stream",
     "text": [
      "{98, 35, 15, 213, 54, 119}\n"
     ]
    }
   ],
   "source": [
    "geo_lable = set()\n",
    "\n",
    "for element in ids.keys():\n",
    "    geo_lable.update(ids.get(element))\n",
    "print(geo_lable)"
   ]
  },
  {
   "cell_type": "markdown",
   "metadata": {},
   "source": [
    "# Задание 2"
   ]
  },
  {
   "cell_type": "markdown",
   "metadata": {},
   "source": [
    "Дана переменная, в которой хранится список поисковых запросов пользователя (пример структуры данных приведен ниже). Вам необходимо написать программу, которая выведет на экран распределение количества слов в запросах в требуемом виде."
   ]
  },
  {
   "cell_type": "code",
   "execution_count": 28,
   "metadata": {},
   "outputs": [],
   "source": [
    "queries = [\n",
    "'смотреть сериалы онлайн',\n",
    "'новости спорта',\n",
    "'афиша кино',\n",
    "'курс доллара',\n",
    "'сериалы этим летом',\n",
    "'курс по питону',\n",
    "'сериалы про спорт',\n",
    "]"
   ]
  },
  {
   "cell_type": "code",
   "execution_count": 52,
   "metadata": {},
   "outputs": [
    {
     "name": "stdout",
     "output_type": "stream",
     "text": [
      "Поисковых запросов, содержащих 3 слов(а): 57.14%\n",
      "Поисковых запросов, содержащих 2 слов(а): 42.86%\n"
     ]
    }
   ],
   "source": [
    "distribution = {}\n",
    "\n",
    "for element in queries:\n",
    "    if len(element.split(' ')) in distribution.keys():\n",
    "        distribution[len(element.split(' '))] += 1\n",
    "    else:\n",
    "        distribution[len(element.split(' '))] = 1\n",
    "for dic_elem in distribution.keys():\n",
    "    print(f\"Поисковых запросов, содержащих {dic_elem} слов(а): {round(distribution.get(dic_elem)/sum(distribution.values())*100, 2)}%\")      "
   ]
  },
  {
   "cell_type": "markdown",
   "metadata": {},
   "source": [
    "# Задание 3"
   ]
  },
  {
   "cell_type": "markdown",
   "metadata": {},
   "source": [
    "Дана переменная, в которой хранится информация о затратах и доходе рекламных кампаний по различным источникам. Необходимо дополнить исходную структуру показателем ROI, который рассчитаем по формуле: (revenue / cost - 1) * 100"
   ]
  },
  {
   "cell_type": "code",
   "execution_count": 30,
   "metadata": {},
   "outputs": [],
   "source": [
    "results = {\n",
    "'vk': {'revenue': 103, 'cost': 98},\n",
    "'yandex': {'revenue': 179, 'cost': 153},\n",
    "'facebook': {'revenue': 103, 'cost': 110},\n",
    "'adwords': {'revenue': 35, 'cost': 34},\n",
    "'twitter': {'revenue': 11, 'cost': 24},\n",
    "}"
   ]
  },
  {
   "cell_type": "code",
   "execution_count": 39,
   "metadata": {},
   "outputs": [
    {
     "name": "stdout",
     "output_type": "stream",
     "text": [
      "{'vk': {'revenue': 103, 'cost': 98, 'ROI': 5.1}, 'yandex': {'revenue': 179, 'cost': 153, 'ROI': 16.99}, 'facebook': {'revenue': 103, 'cost': 110, 'ROI': -6.36}, 'adwords': {'revenue': 35, 'cost': 34, 'ROI': 2.94}, 'twitter': {'revenue': 11, 'cost': 24, 'ROI': -54.17}}\n"
     ]
    }
   ],
   "source": [
    "for dic_elem in results.keys():\n",
    "    results[dic_elem].update({'ROI':round((((results[dic_elem]['revenue'] /\n",
    "                                             results[dic_elem]['cost']) - 1) * 100), 2)\n",
    "                             }\n",
    "                            )\n",
    "print(results)"
   ]
  },
  {
   "cell_type": "markdown",
   "metadata": {},
   "source": [
    "# Задание 4"
   ]
  },
  {
   "cell_type": "markdown",
   "metadata": {},
   "source": [
    "Дана переменная, в которой хранится статистика рекламных каналов по объемам продаж (пример структуры данных приведен ниже). Напишите программу, которая возвращает название канала с максимальным объемом продаж."
   ]
  },
  {
   "cell_type": "code",
   "execution_count": 44,
   "metadata": {},
   "outputs": [],
   "source": [
    "stats = {'facebook': 55, 'yandex': 115, 'vk': 120, 'google': 99, 'email': 42, 'ok': 98}"
   ]
  },
  {
   "cell_type": "code",
   "execution_count": 51,
   "metadata": {},
   "outputs": [
    {
     "name": "stdout",
     "output_type": "stream",
     "text": [
      "Результат:\n",
      "максимальный объем продаж на рекламном канале: vk\n"
     ]
    }
   ],
   "source": [
    "for key_stats in stats.keys():\n",
    "    if stats[key_stats] == max(stats.values()):\n",
    "        print(f\"Результат:\\nмаксимальный объем продаж на рекламном канале: {key_stats}\")\n",
    "        break    "
   ]
  },
  {
   "cell_type": "markdown",
   "metadata": {},
   "source": [
    "# Задание 5"
   ]
  },
  {
   "cell_type": "markdown",
   "metadata": {},
   "source": [
    "Дан список произвольной длины. Необходимо написать код, который на основе исходного списка составит словарь такого уровня вложенности, какова длина исхондого списка."
   ]
  },
  {
   "cell_type": "code",
   "execution_count": 66,
   "metadata": {},
   "outputs": [],
   "source": [
    "my_list = ['2018-01-01', 'yandex', 'cpc', 100]"
   ]
  },
  {
   "cell_type": "code",
   "execution_count": 129,
   "metadata": {},
   "outputs": [
    {
     "name": "stdout",
     "output_type": "stream",
     "text": [
      "{'2018-01-01': {'yandex': {'cpc': 100}}}\n"
     ]
    }
   ],
   "source": [
    "dic_1 = {}\n",
    "# записываем в словарь последние 2 значения из списка\n",
    "dic_2 = {my_list[len(my_list)-2]:\n",
    "         my_list[len(my_list)-1]}\n",
    "i = 0 # обнуление счетчика\n",
    "\n",
    "# перебираем все значения списка с конца\n",
    "for key_list in reversed(my_list):\n",
    "    i += 1 # счетчик, для определения момента, когда цикл пропустит 2 последних значения (т.к. они уже внесены в список)\n",
    "    if len(my_list) == 2:\n",
    "        break # если в списке только 2 значения - дальнешие операции не нужны, мы уже их записали в dic_2\n",
    "    elif i <= 2:\n",
    "        continue # пропускаем без действий последние 2 значения списка\n",
    "    else:    \n",
    "        dic_1.update({key_list:dic_2.copy()})   # добавляем в пустой dic_1 вложением копию dic_2 (если приравнять - словари 1 и 2\n",
    "                                                # станут ссылаться на одно значение в памяти, а значит все действия над одним\n",
    "                                                # отразятся и на другом словаре)\n",
    "        dic_2 = dic_1.copy()                    # итоговый словарь с вложением копируем для дальнейших итераций в 1\n",
    "        dic_1.clear()                           # стрираем словарь 1 \n",
    "print(dic_2)"
   ]
  },
  {
   "cell_type": "code",
   "execution_count": 137,
   "metadata": {},
   "outputs": [],
   "source": [
    "my_list = ['a', 'b', 'c', 'd', 'e', 'f']"
   ]
  },
  {
   "cell_type": "code",
   "execution_count": 138,
   "metadata": {},
   "outputs": [
    {
     "name": "stdout",
     "output_type": "stream",
     "text": [
      "{'a': {'b': {'c': {'d': {'e': 'f'}}}}}\n"
     ]
    }
   ],
   "source": [
    "dic_1 = {}\n",
    "dic_2 = {my_list[len(my_list)-2]:\n",
    "         my_list[len(my_list)-1]}\n",
    "i = 0\n",
    "\n",
    "for key_list in reversed(my_list):\n",
    "    i += 1\n",
    "    if len(my_list) == 2:\n",
    "        break\n",
    "    elif i <= 2:\n",
    "        continue\n",
    "    else:    \n",
    "        dic_1.update({key_list:dic_2.copy()})\n",
    "        dic_2 = dic_1.copy()\n",
    "        dic_1.clear()\n",
    "print(dic_2)"
   ]
  },
  {
   "cell_type": "markdown",
   "metadata": {},
   "source": [
    "# Задание 6"
   ]
  },
  {
   "cell_type": "markdown",
   "metadata": {},
   "source": [
    "Дана книга рецептов с информацией о том, сколько ингредиентов нужно для приготовления блюда в расчете на одну порцию (пример данных представлен ниже).\n",
    "Напишите программу, которая будет запрашивать у пользователя количество порций для приготовления этих блюд и отображать информацию о суммарном количестве требуемых ингредиентов в указанном виде."
   ]
  },
  {
   "cell_type": "code",
   "execution_count": 255,
   "metadata": {},
   "outputs": [],
   "source": [
    "cook_book = {\n",
    "'салат': [\n",
    "{'ingridient_name': 'сыр', 'quantity': 50, 'measure': 'гр'},\n",
    "{'ingridient_name': 'томаты', 'quantity': 2, 'measure': 'шт'},\n",
    "{'ingridient_name': 'огурцы', 'quantity': 20, 'measure': 'гр'},\n",
    "{'ingridient_name': 'маслины', 'quantity': 10, 'measure': 'гр'},\n",
    "{'ingridient_name': 'оливковое масло', 'quantity': 20, 'measure': 'мл'},\n",
    "{'ingridient_name': 'салат', 'quantity': 10, 'measure': 'гр'},\n",
    "{'ingridient_name': 'перец', 'quantity': 20, 'measure': 'гр'}\n",
    "],\n",
    "'пицца': [\n",
    "{'ingridient_name': 'сыр', 'quantity': 20, 'measure': 'гр'},\n",
    "{'ingridient_name': 'колбаса', 'quantity': 30, 'measure': 'гр'},\n",
    "{'ingridient_name': 'бекон', 'quantity': 30, 'measure': 'гр'},\n",
    "{'ingridient_name': 'оливки', 'quantity': 10, 'measure': 'гр'},\n",
    "{'ingridient_name': 'томаты', 'quantity': 20, 'measure': 'гр'},\n",
    "{'ingridient_name': 'тесто', 'quantity': 100, 'measure': 'гр'},\n",
    "],\n",
    "'лимонад': [\n",
    "{'ingridient_name': 'лимон', 'quantity': 1, 'measure': 'шт'},\n",
    "{'ingridient_name': 'вода', 'quantity': 200, 'measure': 'мл'},\n",
    "{'ingridient_name': 'сахар', 'quantity': 10, 'measure': 'гр'},\n",
    "{'ingridient_name': 'лайм', 'quantity': 20, 'measure': 'гр'},\n",
    "]\n",
    "}"
   ]
  },
  {
   "cell_type": "code",
   "execution_count": 271,
   "metadata": {},
   "outputs": [
    {
     "name": "stdout",
     "output_type": "stream",
     "text": [
      "Введите пожалуйста количество персон:\n",
      "3\n",
      "Требуемый объем ингридиентов:\n",
      "\n",
      "сыр: 210 гр\n",
      "томаты: 6 шт\n",
      "томаты: 60 гр\n",
      "огурцы: 60 гр\n",
      "маслины: 30 гр\n",
      "оливковое масло: 60 мл\n",
      "салат: 30 гр\n",
      "перец: 60 гр\n",
      "колбаса: 90 гр\n",
      "бекон: 90 гр\n",
      "оливки: 30 гр\n",
      "тесто: 300 гр\n",
      "лимон: 3 шт\n",
      "вода: 600 мл\n",
      "сахар: 30 гр\n",
      "лайм: 60 гр\n"
     ]
    }
   ],
   "source": [
    "# создаем словарь для того, чтобы в нем агрегировать все ингридиенты\n",
    "ingrids = {}\n",
    "\n",
    "persons = input('Введите пожалуйста количество персон:\\n')\n",
    "# последовательно перебираем каждое блюдо\n",
    "for dish in cook_book:\n",
    "    # последовательно перебираем каждый словарь, вложенный в список,\n",
    "    # являющийся значением для соответствующего блюда\n",
    "    for ingr_name in cook_book[dish]:\n",
    "        # проверяем, что наименование продукта еще не записано в качестве ключа в словарь ingrids\n",
    "        if ingr_name.get('ingridient_name') not in ingrids.keys():\n",
    "            # если такой продукт еще не записывался - записываем его наименование как ключ,\n",
    "            # а единицы измерения и необходимое количество - как вложенный словарь (ключ/значение соответственно)\n",
    "            ingrids.update({ingr_name.get('ingridient_name'):\n",
    "                            {ingr_name.get('measure'):ingr_name.get('quantity')}\n",
    "                           }\n",
    "                          )\n",
    "        # проверка, что продукт добавлен, но единицы измерения отличаются от уже добавленного, в этом случае для\n",
    "        # продукта создаем в словаре-значении второе значение\n",
    "        elif ingr_name.get('measure') not in ingrids[ingr_name.get('ingridient_name')].keys():\n",
    "            ingrids[ingr_name.get('ingridient_name')].update({ingr_name.get('measure'):ingr_name.get('quantity')})\n",
    "        # если продукт уже добавлялся и единицы измерения совпадают - суммируем добавленное и новое значение количества продукта\n",
    "        else:         \n",
    "            ingrids[ingr_name.get('ingridient_name')][ingr_name.get('measure')] += ingr_name['quantity']\n",
    "print('Требуемый объем ингридиентов:\\n')\n",
    "for elem in ingrids.keys():\n",
    "    for vol_key in ingrids.get(elem).keys():\n",
    "        vol = ingrids[elem][vol_key] * 3\n",
    "        print(f\"{elem}: {vol} {vol_key}\")"
   ]
  }
 ],
 "metadata": {
  "kernelspec": {
   "display_name": "Python 3",
   "language": "python",
   "name": "python3"
  },
  "language_info": {
   "codemirror_mode": {
    "name": "ipython",
    "version": 3
   },
   "file_extension": ".py",
   "mimetype": "text/x-python",
   "name": "python",
   "nbconvert_exporter": "python",
   "pygments_lexer": "ipython3",
   "version": "3.8.5"
  }
 },
 "nbformat": 4,
 "nbformat_minor": 4
}
