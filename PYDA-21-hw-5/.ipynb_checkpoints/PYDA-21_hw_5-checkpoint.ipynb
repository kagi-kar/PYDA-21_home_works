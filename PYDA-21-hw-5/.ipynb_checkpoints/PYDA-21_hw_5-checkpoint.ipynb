{
 "cells": [
  {
   "cell_type": "markdown",
   "metadata": {},
   "source": [
    "# Домашнее задание"
   ]
  },
  {
   "cell_type": "markdown",
   "metadata": {},
   "source": [
    "<a id='contents'></a>\n",
    "## Оглавление:\n",
    "### [Задание 1](#task1)\n",
    "  * [Пункт 1:](#point1) пользователь по команде “p” может узнать владельца документа по его номеру\n",
    "  * [Пункт 2:](#point2) пользователь по команде “p” может узнать владельца документа по его номеру\n",
    "  * [Пункт 3:](#point3) пользователь по команде “l” может увидеть полную информацию по всем документам\n",
    "  * [Пункт 4:](#point4) пользователь по команде “as” может добавить новую полку\n",
    "  * [Пункт 5:](#point5) пользователь по команде “ds” может удалить существующую полку из данных (только если она пустая)\n",
    "  * [Пункт 6:](#point6) основное тело программы\n",
    "  \n",
    "### [Задание 1](#task1)\n",
    "  * [Пункт 1:](#point7) пользователь по команде “ad” может добавить новый документ в данные\n",
    "  * [Пункт 2:](#point8) пользователь по команде “d” может удалить документ из данных\n",
    "  * [Пункт 3:](#point9) пользователь по команде “m” может переместить документ с полки на полку"
   ]
  },
  {
   "cell_type": "markdown",
   "metadata": {},
   "source": [
    "Вам нужно помочь секретарю автоматизировать работу. Для этого нужно написать программу, которая будет на основе хранимых данных исполнять пользовательские команды."
   ]
  },
  {
   "cell_type": "markdown",
   "metadata": {},
   "source": [
    "Исходные данные имеют следующую структуру:\n",
    "\n",
    "1. перечень всех документов"
   ]
  },
  {
   "cell_type": "code",
   "execution_count": 16,
   "metadata": {},
   "outputs": [],
   "source": [
    "documents = [\n",
    "{'type': 'passport', 'number': '2207 876234', 'name': 'Василий Гупкин'},\n",
    "{'type': 'invoice', 'number': '11-2', 'name': 'Геннадий Покемонов'},\n",
    "{'type': 'insurance', 'number': '10006', 'name': 'Аристарх Павлов'}\n",
    "]"
   ]
  },
  {
   "cell_type": "markdown",
   "metadata": {},
   "source": [
    "2. перечень полок, на которых хранятся документы (если документ есть в documents, то он обязательно должен быть и в directories)"
   ]
  },
  {
   "cell_type": "code",
   "execution_count": 17,
   "metadata": {},
   "outputs": [],
   "source": [
    "directories = {\n",
    "'1': ['2207 876234', '11-2'],\n",
    "'2': ['10006'],\n",
    "'3': []\n",
    "}"
   ]
  },
  {
   "cell_type": "markdown",
   "metadata": {},
   "source": [
    "Общие требования к программе:\n",
    "- код должен быть грамотно декомпозирован (каждая функция отвечает за свою конкретную задачу, дублирующийся функционал переиспользуется, а его код не повторяется);\n",
    "- в коде отсутствуют глобальные переменные (за исключением documents и directories);\n",
    "- пользовательский ввод обрабатывается в цикле while до тех пор, пока пользователь явно не завершит программу (вводом команды “q”)."
   ]
  },
  {
   "cell_type": "markdown",
   "metadata": {},
   "source": [
    "<a id='task1'></a>\n",
    "## Задание 1"
   ]
  },
  {
   "cell_type": "markdown",
   "metadata": {},
   "source": [
    "<a id='point1'></a>\n",
    "### Пункт 1\n",
    "Пользователь по команде “p” может узнать владельца документа по его номеру"
   ]
  },
  {
   "cell_type": "code",
   "execution_count": 18,
   "metadata": {},
   "outputs": [],
   "source": [
    "def doc_owner(in_value = None):\n",
    "    '''\n",
    "    Функция запрашивает номер документа и выводит владельца документа.\n",
    "    '''\n",
    "    # проверяем, если в фунцию не передана переменная (т.е. значение осталось пустым), тогда in_value\n",
    "    # будет в функции if возвращать false, в этом случае мы это проверяем и просим внести значение.\n",
    "    # сделано это для того, чтобы в функцию можно было и передать значение и ввести его принудительно (для функции doc_info)\n",
    "    if not(in_value):\n",
    "        in_value = input('\\nВведите номер документа: ')\n",
    "    for doc in documents:\n",
    "        if in_value in doc.values():\n",
    "            return f\"владелец: {doc.get('name')}\"\n",
    "    # в случае, если ни один if не выполнился, т.е. документ не найден\n",
    "    # и return не прервал функцию - выводим сообщение об ошибке\n",
    "    return 'Документ не найден в базе.'"
   ]
  },
  {
   "cell_type": "code",
   "execution_count": 256,
   "metadata": {},
   "outputs": [
    {
     "name": "stdout",
     "output_type": "stream",
     "text": [
      "\n",
      "Введите номер документа: 10006\n",
      "владелец: Аристарх Павлов\n"
     ]
    }
   ],
   "source": [
    "print(doc_owner())"
   ]
  },
  {
   "cell_type": "markdown",
   "metadata": {},
   "source": [
    "[к оглавлению](#contents)"
   ]
  },
  {
   "cell_type": "markdown",
   "metadata": {},
   "source": [
    "<a id='point2'></a>\n",
    "### Пункт 2\n",
    "Пользователь по команде “s” может по номеру документа узнать на какой полке он хранится"
   ]
  },
  {
   "cell_type": "code",
   "execution_count": 19,
   "metadata": {},
   "outputs": [],
   "source": [
    "def shelf_search(in_value = None):\n",
    "    '''\n",
    "    Функция запрашивает номер документа и выводит полку, на которой он размещен.\n",
    "    '''\n",
    "    # проверяем, если в фунцию не передана переменная (т.е. значение осталось пустым), тогда in_value\n",
    "    # будет в функции if возвращать false, в этом случае мы это проверяем и просим внести значение.\n",
    "    # сделано это для того, чтобы в функцию можно было и передать значение и ввести его принудительно (для функции doc_info)\n",
    "    if not(in_value):\n",
    "        in_value = input('\\nВведите номер документа: ')\n",
    "    for shelf, docs in directories.items():\n",
    "        if docs.count(in_value):\n",
    "            return f\"полка хранения: {shelf}\"\n",
    "    # в случае, если ни один if не выполнился, т.е. документ не найден\n",
    "    # и return не прервал функцию - выводим сообщение об ошибке\n",
    "    return 'Документ не найден в базе.'"
   ]
  },
  {
   "cell_type": "code",
   "execution_count": 354,
   "metadata": {
    "scrolled": true
   },
   "outputs": [
    {
     "name": "stdout",
     "output_type": "stream",
     "text": [
      "\n",
      "Введите номер документа: 10006\n",
      "полка хранения: 2\n"
     ]
    }
   ],
   "source": [
    "print(shelf_search())"
   ]
  },
  {
   "cell_type": "markdown",
   "metadata": {},
   "source": [
    "[к оглавлению](#contents)"
   ]
  },
  {
   "cell_type": "markdown",
   "metadata": {},
   "source": [
    "<a id='point3'></a>\n",
    "### Пункт 3\n",
    "Пользователь по команде “l” может увидеть полную информацию по всем документам"
   ]
  },
  {
   "cell_type": "code",
   "execution_count": 20,
   "metadata": {},
   "outputs": [],
   "source": [
    "def doc_info():\n",
    "    '''\n",
    "    Функция выводит полную информацию по всем документам.\n",
    "    '''\n",
    "    out_info = []\n",
    "    \n",
    "    for doc in documents:\n",
    "        out_info.append(f\"№: {doc.get('number')}, тип: {doc.get('type')}, {doc_owner(doc.get('number'))}, {shelf_search(doc.get('number'))}\")\n",
    "    # т.к. \\n нельзя использовать внутри {}, можно перевод строки сделать или chr(10) или '\\n' присвоить переменной и ее\n",
    "    # использовать: nl = '\\n', {nl.join(out_info)}\n",
    "    return f\"Текущий список документов:\\n{chr(10).join(out_info)}\""
   ]
  },
  {
   "cell_type": "code",
   "execution_count": 21,
   "metadata": {
    "scrolled": true
   },
   "outputs": [
    {
     "name": "stdout",
     "output_type": "stream",
     "text": [
      "Текущий список документов:\n",
      "№: 2207 876234, тип: passport, владелец: Василий Гупкин, полка хранения: 1\n",
      "№: 11-2, тип: invoice, владелец: Геннадий Покемонов, полка хранения: 1\n",
      "№: 10006, тип: insurance, владелец: Аристарх Павлов, полка хранения: 2\n"
     ]
    }
   ],
   "source": [
    "print(doc_info())"
   ]
  },
  {
   "cell_type": "markdown",
   "metadata": {},
   "source": [
    "[к оглавлению](#contents)"
   ]
  },
  {
   "cell_type": "markdown",
   "metadata": {},
   "source": [
    "<a id='point4'></a>\n",
    "### Пункт 4\n",
    "Пользователь по команде “as” может добавить новую полку"
   ]
  },
  {
   "cell_type": "code",
   "execution_count": 170,
   "metadata": {},
   "outputs": [],
   "source": [
    "def shelf_add(in_value = None):\n",
    "    '''\n",
    "    Функция запрашивает номер полки, проверяет ее наличие.\n",
    "    Если полка существует - сообщает это и выводит перечень всех номеров полок.\n",
    "    Если полка с таким номером отсутствуе - создает новую полку в словаре с ключем = введенному номеру, \n",
    "    значение - пустой список.\n",
    "    '''\n",
    "    if not(in_value):\n",
    "        in_value = input('Введите номер полки: ')\n",
    "    if in_value in directories:\n",
    "        return f\"Такая полка уже существует. Текущий перечень полок: {', '.join(list(directories))}\"\n",
    "    else:\n",
    "        directories.update({in_value:[]}) \n",
    "        return f\"Полка добавлена. Текущий перечень полок: {', '.join(list(directories))}\""
   ]
  },
  {
   "cell_type": "code",
   "execution_count": 260,
   "metadata": {},
   "outputs": [
    {
     "name": "stdout",
     "output_type": "stream",
     "text": [
      "Введите номер полки: 10\n",
      "Полка добавлена. Текущий перечень полок: 1, 2, 3, 10\n"
     ]
    }
   ],
   "source": [
    "print(shelf_add())"
   ]
  },
  {
   "cell_type": "markdown",
   "metadata": {},
   "source": [
    "[к оглавлению](#contents)"
   ]
  },
  {
   "cell_type": "markdown",
   "metadata": {},
   "source": [
    "<a id='point5'></a>\n",
    "### Пункт 5.\n",
    "Пользователь по команде “ds” может удалить существующую полку из данных (только если она пустая)"
   ]
  },
  {
   "cell_type": "code",
   "execution_count": 252,
   "metadata": {},
   "outputs": [],
   "source": [
    "def shelf_del(in_value = None):\n",
    "    '''\n",
    "    Функция запрашивает номер полки, проверяет ее наличие и наполнение.\n",
    "    Если полка существует и пустая - удаляе. Если полка с таким номером существует, но не пустая - сообщает об этом.\n",
    "    Если отсутствует - сообщает об этом.\n",
    "    '''\n",
    "    if not(in_value):\n",
    "        in_value = input('Введите номер полки: ')\n",
    "    if in_value not in directories:\n",
    "        return f\"Такой полки не существует. Текущий перечень полок: {', '.join(list(directories))}\"\n",
    "    else:\n",
    "        # проверяем, если значение выбранной пользователем полки пустое, т.е. под not() примет значение true,\n",
    "        # полку удаляем; если не пустое - просим сначала удалить документы\n",
    "        if directories.get(in_value):\n",
    "            return f\"На полке есть документы, удалите их перед удалением полки. Текущий перечень полок: {', '.join(list(directories))}\"\n",
    "        else:\n",
    "            directories.pop(in_value)\n",
    "            return f\"Полка удалена. Текущий перечень полок: {', '.join(list(directories))}\""
   ]
  },
  {
   "cell_type": "code",
   "execution_count": 261,
   "metadata": {},
   "outputs": [
    {
     "name": "stdout",
     "output_type": "stream",
     "text": [
      "Введите номер полки: 10\n",
      "Полка удалена. Текущий перечень полок: 1, 2, 3\n"
     ]
    }
   ],
   "source": [
    "print(shelf_del())"
   ]
  },
  {
   "cell_type": "markdown",
   "metadata": {},
   "source": [
    "[к оглавлению](#contents)"
   ]
  },
  {
   "cell_type": "markdown",
   "metadata": {},
   "source": [
    "<a id='point6'></a>\n",
    "### Пункт 6.\n",
    "Основное тело программы"
   ]
  },
  {
   "cell_type": "code",
   "execution_count": 303,
   "metadata": {},
   "outputs": [],
   "source": [
    "def start_func(in_command):\n",
    "    '''\n",
    "    Функция - обработчик подфункций через создание их словаря и вызов по комманде, являющейся ключем:\n",
    "    q - выход из программы,\n",
    "    p - поиск владельца по номеру документа,\n",
    "    s - поиск места хранения документа по его номеру,\n",
    "    l - полный каталог всех документов с информацией по ним,\n",
    "    as - добавление полки для хранения документов,\n",
    "    ds - удаление пустой полки для хранения документов,\n",
    "    ad - добавление документа,\n",
    "    d - удаление документа из базы,\n",
    "    m - перемещение документа между полками\n",
    "    '''\n",
    "    return {'q':'q',\n",
    "            'p':doc_owner,\n",
    "            's':shelf_search,\n",
    "            'l':doc_info,\n",
    "            'as':shelf_add,\n",
    "            'ds':shelf_del,\n",
    "            'ad':doc_add,\n",
    "            'd':doc_del,\n",
    "            'm':doc_move\n",
    "           }.get(in_command, 'Неверная комманда')"
   ]
  },
  {
   "cell_type": "markdown",
   "metadata": {},
   "source": [
    "[к оглавлению](#contents)"
   ]
  },
  {
   "cell_type": "code",
   "execution_count": 262,
   "metadata": {},
   "outputs": [
    {
     "name": "stdout",
     "output_type": "stream",
     "text": [
      "Программа запущена\n",
      "\n",
      "Введите комманду: p\n",
      "\n",
      "Введите номер документа: 12345\n",
      "Документ не найден в базе.\n",
      "\n",
      "Введите комманду: s\n",
      "\n",
      "Введите номер документа: 12345\n",
      "Документ не найден в базе.\n",
      "\n",
      "Введите комманду: l\n",
      "\n",
      "Полная информация по всем документам:\n",
      "№: 2207 876234, тип: passport, владелец: Василий Гупкин, полка хранения: 1\n",
      "№: 11-2, тип: invoice, владелец: Геннадий Покемонов, полка хранения: 1\n",
      "№: 10006, тип: insurance, владелец: Аристарх Павлов, полка хранения: 2\n",
      "\n",
      "Введите комманду: as\n",
      "Введите номер полки: 1\n",
      "Такая полка уже существует. Текущий перечень полок: 1, 2, 3\n",
      "\n",
      "Введите комманду: ds\n",
      "Введите номер полки: 4\n",
      "Такой полки не существует. Текущий перечень полок: 1, 2, 3\n",
      "\n",
      "Введите комманду: ds\n",
      "Введите номер полки: 1\n",
      "На полке есть документы, удалите их перед удалением полки. Текущий перечень полок: 1, 2, 3\n",
      "\n",
      "Введите комманду: q\n",
      "\n",
      "Программа завершена\n"
     ]
    }
   ],
   "source": [
    "# задаем тело основной программы\n",
    "import keyboard  # включаем модуль keyboard\n",
    "\n",
    "print('Программа запущена')\n",
    "in_key = input('\\nВведите комманду: ')\n",
    "while in_key != 'q':\n",
    "    print(start_func(in_key)())\n",
    "    in_key = input('\\nВведите комманду: ')\n",
    "print('\\nПрограмма завершена')"
   ]
  },
  {
   "cell_type": "markdown",
   "metadata": {},
   "source": [
    "<a id='task2'></a>\n",
    "## Задание 2\n",
    "Вам необходимо дополнить программу из задания 1 более продвинутыми командами."
   ]
  },
  {
   "cell_type": "markdown",
   "metadata": {},
   "source": [
    "<a id='point7'></a>\n",
    "### Пункт 1\n",
    "Пользователь по команде “ad” может добавить новый документ в данные"
   ]
  },
  {
   "cell_type": "code",
   "execution_count": 372,
   "metadata": {},
   "outputs": [],
   "source": [
    "def doc_add():\n",
    "    doc_dict = {}\n",
    "    \n",
    "    '''\n",
    "    Функция добавляет информацию по документу, при этом проверяя существование полки\n",
    "    '''\n",
    "    doc_dict.update({'number':input('Введите номер документа: ')})\n",
    "    doc_dict.update({'type':input('Введите тип документа: ')})\n",
    "    doc_dict.update({'name':input('Введите владельца документа: ')})\n",
    "    shelf_num = input('Введите полку для хранения: ')\n",
    "    if shelf_num in directories:\n",
    "        documents.append(doc_dict)\n",
    "        directories[shelf_num].append(doc_dict['number'])\n",
    "        return f\"Документ добавлен.\\n{doc_info()}\"\n",
    "    else:\n",
    "        return f\"Такой полки не существует. Добавьте полку командой as.\\n{doc_info()}\""
   ]
  },
  {
   "cell_type": "markdown",
   "metadata": {},
   "source": [
    "[к оглавлению](#contents)"
   ]
  },
  {
   "cell_type": "code",
   "execution_count": 367,
   "metadata": {
    "scrolled": true
   },
   "outputs": [
    {
     "name": "stdout",
     "output_type": "stream",
     "text": [
      "Введите номер документа: 42\n",
      "Введите тип документа: multipassport\n",
      "Введите владельца документа: R2D2\n",
      "Введите полку для хранения: 4\n",
      "Такой полки не существует. Добавьте полку командой as.\n",
      "Текущий список документов:\n",
      "№: 2207 876234, тип: passport, владелец: Василий Гупкин, полка хранения: 1\n",
      "№: 11-2, тип: invoice, владелец: Геннадий Покемонов, полка хранения: 1\n",
      "№: 10006, тип: insurance, владелец: Аристарх Павлов, полка хранения: 2\n"
     ]
    }
   ],
   "source": [
    "print(doc_add())"
   ]
  },
  {
   "cell_type": "code",
   "execution_count": 384,
   "metadata": {
    "scrolled": true
   },
   "outputs": [
    {
     "name": "stdout",
     "output_type": "stream",
     "text": [
      "Введите номер документа: 42\n",
      "Введите тип документа: multipassport\n",
      "Введите владельца документа: R2D2\n",
      "Введите полку для хранения: 3\n",
      "Документ добавлен.\n",
      "Текущий список документов:\n",
      "№: 2207 876234, тип: passport, владелец: Василий Гупкин, полка хранения: 1\n",
      "№: 11-2, тип: invoice, владелец: Геннадий Покемонов, полка хранения: 1\n",
      "№: 10006, тип: insurance, владелец: Аристарх Павлов, полка хранения: 2\n",
      "№: 42, тип: multipassport, владелец: R2D2, полка хранения: 3\n",
      "\n",
      " {'1': ['2207 876234', '11-2'], '2': ['10006'], '3': ['42']}\n"
     ]
    }
   ],
   "source": [
    "print(doc_add())\n",
    "print('\\n', directories)"
   ]
  },
  {
   "cell_type": "markdown",
   "metadata": {},
   "source": [
    "<a id='point8'></a>\n",
    "### Пункт 2\n",
    "Пользователь по команде “d” может удалить документ из данных"
   ]
  },
  {
   "cell_type": "code",
   "execution_count": 380,
   "metadata": {},
   "outputs": [],
   "source": [
    "def doc_del(doc_num = None):\n",
    "    '''\n",
    "    Функция удаляет информацию по документу, при этом проверяя существование документа\n",
    "    '''\n",
    "    # создаем копию списка инфо по документам, чтобы совершать над ним действия,\n",
    "    # не приводя к ошибкам из-за изменения записей в списке\n",
    "    documents_copy = documents.copy()\n",
    "    \n",
    "    if not(doc_num):\n",
    "        doc_num = input('Введите номер документа: ')\n",
    "    for doc in documents_copy:\n",
    "        if doc_num in doc.values():\n",
    "            documents.remove(doc)\n",
    "            shelf_num = shelf_search(doc_num).replace('полка хранения: ', '')\n",
    "            directories[shelf_num].remove(doc_num)\n",
    "#            directories.update({shelf_num:directories[shelf_num].remove(doc_num)})\n",
    "            return f\"Документ удален.\\n{doc_info()}\" \n",
    "    # в случае, если ни один if не выполнился, т.е. документ не найден\n",
    "    # и return не прервал функцию - выводим сообщение об ошибке\n",
    "    return f\"Документ не найден в базе.\\n{doc_info()}\"       "
   ]
  },
  {
   "cell_type": "markdown",
   "metadata": {},
   "source": [
    "[к оглавлению](#contents)"
   ]
  },
  {
   "cell_type": "code",
   "execution_count": 300,
   "metadata": {
    "scrolled": true
   },
   "outputs": [
    {
     "name": "stdout",
     "output_type": "stream",
     "text": [
      "Введите номер документа: 123456\n",
      "\n",
      "Текущий список документов:\n",
      "Документ не найден в базе.\n",
      "№: 2207 876234, тип: passport, владелец: Василий Гупкин, полка хранения: 1\n",
      "№: 11-2, тип: invoice, владелец: Геннадий Покемонов, полка хранения: 1\n",
      "№: 10006, тип: insurance, владелец: Аристарх Павлов, полка хранения: 2\n"
     ]
    }
   ],
   "source": [
    "print(doc_del())"
   ]
  },
  {
   "cell_type": "code",
   "execution_count": 385,
   "metadata": {
    "scrolled": true
   },
   "outputs": [
    {
     "name": "stdout",
     "output_type": "stream",
     "text": [
      "Введите номер документа: 42\n",
      "Документ удален.\n",
      "Текущий список документов:\n",
      "№: 2207 876234, тип: passport, владелец: Василий Гупкин, полка хранения: 1\n",
      "№: 11-2, тип: invoice, владелец: Геннадий Покемонов, полка хранения: 1\n",
      "№: 10006, тип: insurance, владелец: Аристарх Павлов, полка хранения: 2\n",
      "\n",
      " {'1': ['2207 876234', '11-2'], '2': ['10006'], '3': []}\n"
     ]
    }
   ],
   "source": [
    "print(doc_del())\n",
    "print('\\n', directories)"
   ]
  },
  {
   "cell_type": "markdown",
   "metadata": {},
   "source": [
    "<a id='point9'></a>\n",
    "### Пункт 3\n",
    "Пользователь по команде “m” может переместить документ с полки на полку"
   ]
  },
  {
   "cell_type": "code",
   "execution_count": 361,
   "metadata": {},
   "outputs": [],
   "source": [
    "def doc_move():\n",
    "    '''\n",
    "    Функция перемещает документ с полки на полку\n",
    "    '''\n",
    "    in_doc = input('Введите номер документа: ')\n",
    "    in_shelf = input('Введите номер полки: ')\n",
    "    if doc_owner(in_doc) == 'Документ не найден в базе.':\n",
    "        return doc_del(in_doc)\n",
    "    elif in_shelf not in directories:\n",
    "        return shelf_del(in_shelf)\n",
    "    directories[shelf_search(in_doc).replace('полка хранения: ', '')].remove(in_doc)\n",
    "    directories[in_shelf].append(in_doc)\n",
    "    return f\"Документ перемещен.\\n{doc_info()}\""
   ]
  },
  {
   "cell_type": "markdown",
   "metadata": {},
   "source": [
    "[к оглавлению](#contents)"
   ]
  },
  {
   "cell_type": "code",
   "execution_count": 322,
   "metadata": {},
   "outputs": [
    {
     "name": "stdout",
     "output_type": "stream",
     "text": [
      "Введите номер документа: 11-2\n",
      "Введите номер полки: 10\n",
      "Такой полки не существует. Текущий перечень полок: 1, 2, 3\n"
     ]
    }
   ],
   "source": [
    "print(doc_move())"
   ]
  },
  {
   "cell_type": "code",
   "execution_count": 323,
   "metadata": {},
   "outputs": [
    {
     "name": "stdout",
     "output_type": "stream",
     "text": [
      "Введите номер документа: 42\n",
      "Введите номер полки: 2\n",
      "Документ не найден в базе.\n",
      "Текущий список документов:\n",
      "№: 2207 876234, тип: passport, владелец: Василий Гупкин, полка хранения: 1\n",
      "№: 11-2, тип: invoice, владелец: Геннадий Покемонов, полка хранения: 1\n",
      "№: 10006, тип: insurance, владелец: Аристарх Павлов, полка хранения: 2\n"
     ]
    }
   ],
   "source": [
    "print(doc_move())"
   ]
  },
  {
   "cell_type": "code",
   "execution_count": 386,
   "metadata": {
    "scrolled": true
   },
   "outputs": [
    {
     "name": "stdout",
     "output_type": "stream",
     "text": [
      "{'1': ['2207 876234', '11-2'], '2': ['10006'], '3': []} \n",
      "\n",
      "Введите номер документа: 11-2\n",
      "Введите номер полки: 3\n",
      "Документ перемещен.\n",
      "Текущий список документов:\n",
      "№: 2207 876234, тип: passport, владелец: Василий Гупкин, полка хранения: 1\n",
      "№: 11-2, тип: invoice, владелец: Геннадий Покемонов, полка хранения: 3\n",
      "№: 10006, тип: insurance, владелец: Аристарх Павлов, полка хранения: 2 \n",
      "\n",
      "{'1': ['2207 876234'], '2': ['10006'], '3': ['11-2']}\n"
     ]
    }
   ],
   "source": [
    "print(directories,'\\n')\n",
    "print(doc_move(),'\\n')\n",
    "print(directories)"
   ]
  }
 ],
 "metadata": {
  "kernelspec": {
   "display_name": "Python 3",
   "language": "python",
   "name": "python3"
  },
  "language_info": {
   "codemirror_mode": {
    "name": "ipython",
    "version": 3
   },
   "file_extension": ".py",
   "mimetype": "text/x-python",
   "name": "python",
   "nbconvert_exporter": "python",
   "pygments_lexer": "ipython3",
   "version": "3.8.5"
  }
 },
 "nbformat": 4,
 "nbformat_minor": 4
}
