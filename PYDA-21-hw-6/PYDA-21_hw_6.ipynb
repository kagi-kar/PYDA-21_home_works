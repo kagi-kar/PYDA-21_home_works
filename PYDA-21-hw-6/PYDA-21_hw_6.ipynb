{
 "cells": [
  {
   "cell_type": "markdown",
   "metadata": {},
   "source": [
    "# Домашнее задание"
   ]
  },
  {
   "cell_type": "markdown",
   "metadata": {},
   "source": [
    "<a id='contents'></a>\n",
    "## Оглавление:\n",
    "### [Задание 1](#task1)\n",
    "  * [Пункт 1:](#point1) Переведите содержимое файла purchase_log.txt в словарь purchases вида:\n",
    "{'1840e0b9d4': 'Продукты', …}\n",
    "  * [Пункт 2:](#point2) Для каждого user_id в файле visit_log.csv определите третий столбец с категорией покупки (если покупка была, сам файл visit_log.csv изменять не надо). Запишите в файл funnel.csv визиты из файла visit_log.csv, в которых были покупки с указанием категории."
   ]
  },
  {
   "cell_type": "markdown",
   "metadata": {},
   "source": [
    "__Учтите условия на данные:__\n",
    "1. содержимое purchase_log.txt помещается в оперативную память компьютера\n",
    "1. содержимое visit_log.csv - нет; используйте только построчную обработку этого файла"
   ]
  },
  {
   "cell_type": "markdown",
   "metadata": {},
   "source": [
    "<a id='task1'></a>\n",
    "## Задание 1"
   ]
  },
  {
   "cell_type": "markdown",
   "metadata": {},
   "source": [
    "<a id='point1'></a>\n",
    "### Пункт 1"
   ]
  },
  {
   "cell_type": "code",
   "execution_count": 106,
   "metadata": {},
   "outputs": [],
   "source": [
    "# задаем словарь в который будем позже записывать логи\n",
    "purchases = {}"
   ]
  },
  {
   "cell_type": "code",
   "execution_count": 107,
   "metadata": {},
   "outputs": [],
   "source": [
    "# считываю в память в список весь файл целиком, в режиме для чтения, декодируя из utf-8\n",
    "purchase_log = open('purchase_log.txt', 'r', encoding = 'UTF-8').readlines()\n",
    "# начиная со второго элемента, т.к. в 1-ом (0-ой) содержатся заголовки, записываю циклом значения в словарь\n",
    "for line in purchase_log[1:]:\n",
    "    purchases.update({list(json.loads(line).values())[0]:list(json.loads(line).values())[1]})"
   ]
  },
  {
   "cell_type": "markdown",
   "metadata": {},
   "source": [
    "[к оглавлению](#contents)"
   ]
  },
  {
   "cell_type": "markdown",
   "metadata": {},
   "source": [
    "<a id='point2'></a>\n",
    "### Пункт 2"
   ]
  },
  {
   "cell_type": "code",
   "execution_count": 165,
   "metadata": {},
   "outputs": [],
   "source": [
    "# передаю открытый файл переменной черех with, чтобы после его выполнения файл автоматически закрылся\n",
    "with open('visit_log.csv', 'r', encoding = 'UTF-8') as purchase_log:\n",
    "    # открываю файл для записи через w, т.к. мне важно, чтобы он всякий раз создавался с нуля (обнулялся)\n",
    "    with open('funnel.csv', 'w', encoding = 'UTF-8') as funnel:\n",
    "        temp_line = purchase_log.readline().split(',')\n",
    "        temp_line.insert(1, 'category')\n",
    "        funnel.write(','.join(temp_line))\n",
    "        for i, line in enumerate(purchase_log):\n",
    "            # ввожу промежуточную переменную для облегчения кода, в которую записываю строку\n",
    "            # пробелы и переносы строки не удаляю, чтобы потом не добавлять, а иметь возможность\n",
    "            # прямо записать в csv; только делю по запятой\n",
    "            temp_line = line.split(',')\n",
    "            if temp_line[0] in purchases:\n",
    "                # добавляю к списку в середину данные о категории покупки\n",
    "                temp_line.insert(1, purchases.get(temp_line[0]))\n",
    "                funnel.write(','.join(temp_line))"
   ]
  },
  {
   "cell_type": "markdown",
   "metadata": {},
   "source": [
    "[к оглавлению](#contents)"
   ]
  }
 ],
 "metadata": {
  "kernelspec": {
   "display_name": "Python 3",
   "language": "python",
   "name": "python3"
  },
  "language_info": {
   "codemirror_mode": {
    "name": "ipython",
    "version": 3
   },
   "file_extension": ".py",
   "mimetype": "text/x-python",
   "name": "python",
   "nbconvert_exporter": "python",
   "pygments_lexer": "ipython3",
   "version": "3.8.5"
  }
 },
 "nbformat": 4,
 "nbformat_minor": 4
}
