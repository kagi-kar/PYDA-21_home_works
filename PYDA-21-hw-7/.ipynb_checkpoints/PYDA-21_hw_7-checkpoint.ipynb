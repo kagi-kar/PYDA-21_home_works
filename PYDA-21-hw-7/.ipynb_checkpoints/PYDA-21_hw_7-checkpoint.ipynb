{
 "cells": [
  {
   "cell_type": "markdown",
   "metadata": {},
   "source": [
    "# Домашнее задание"
   ]
  },
  {
   "cell_type": "markdown",
   "metadata": {},
   "source": [
    "<a id='contents'></a>\n",
    "## Оглавление:\n",
    "### [Задание 1](#task1)\n",
    "Печатные газеты использовали свой формат дат для каждого выпуска.\n",
    "Для каждой газеты из списка напишите формат указанной даты для перевода в объект datetime:  \n",
    "``The Moscow Times - Wednesday, October 2, 2002\n",
    "The Guardian - Friday, 11.10.13\n",
    "Daily News - Thursday, 18 August 1977``\n",
    "### [Задание 2](#task2)\n",
    "Дан поток дат в формате YYYY-MM-DD, в которых встречаются некорректные значения:\n",
    "`stream = [‘2018-04-02’, ‘2018-02-29’, ‘2018-19-02’]`\n",
    "Напишите функцию, которая проверяет эти даты на корректность. Т. е. для каждой даты возвращает True (дата корректна) или False (некорректная дата).\n",
    "### [Задание 3](#task3)\n",
    "Напишите функцию date_range, которая возвращает список дат за период от start_date до end_date. Даты должны вводиться в формате YYYY-MM-DD. В случае неверного формата или при start_date > end_date должен возвращаться пустой список.\n",
    "### [Задание 4 (бонусное)](#task4)\n",
    "Ваш коллега прислал код функции:\n",
    "```python\n",
    "DEFAULT_USER_COUNT = 3\n",
    "def delete_and_return_last_user(region, default_list=[‘A100’, ‘A101’, ‘A102’]):\n",
    "    '''Удаляет из списка default_list последнего пользователя\n",
    "    и возвращает ID нового последнего пользователя.\n",
    "    '''\n",
    "    element_to_delete = default_list[-1]\n",
    "    default_list.remove(element_to_delete)\n",
    "    return default_list[DEFAULT_USER_COUNT-2]\n",
    "```\n",
    "При однократном вызове этой функции все работает корректно:\n",
    "```\n",
    "delete_and_return_last_user(1)\n",
    "```\n",
    "``‘A101’``  \n",
    "\n",
    "однако, при повторном вызове получается ошибка `IndexError: list index out of range.`\n",
    "\n",
    "Задание:\n",
    "\n",
    "1. Что значит ошибка list index out of range?\n",
    "1. Почему при первом запуске функция работает корректно, а при втором - нет?"
   ]
  },
  {
   "cell_type": "markdown",
   "metadata": {},
   "source": [
    "<a id='task1'></a>\n",
    "## Задание 1"
   ]
  },
  {
   "cell_type": "code",
   "execution_count": 11,
   "metadata": {},
   "outputs": [],
   "source": [
    "from datetime import datetime as dt"
   ]
  },
  {
   "cell_type": "code",
   "execution_count": 39,
   "metadata": {},
   "outputs": [
    {
     "name": "stdout",
     "output_type": "stream",
     "text": [
      "Wednesday, October 02, 2002\n",
      "Friday, 11.10.13\n",
      "Thursday, 18 August 1977\n"
     ]
    }
   ],
   "source": [
    "moscow_times = dt.strptime('Wednesday, October 2, 2002', '%A, %B %d, %Y')\n",
    "print(moscow_times.strftime('%A, %B %d, %Y'))\n",
    "the_guardian =  dt.strptime('Friday, 11.10.13', '%A, %d.%m.%y')\n",
    "print(the_guardian.strftime('%A, %d.%m.%y'))\n",
    "daily_news = dt.strptime('Thursday, 18 August 1977', '%A, %d %B %Y')\n",
    "print(daily_news.strftime('%A, %d %B %Y'))"
   ]
  },
  {
   "cell_type": "markdown",
   "metadata": {},
   "source": [
    "[к оглавлению](#contents)"
   ]
  },
  {
   "cell_type": "markdown",
   "metadata": {},
   "source": [
    "<a id='task2'></a>\n",
    "## Задание 2"
   ]
  },
  {
   "cell_type": "code",
   "execution_count": 40,
   "metadata": {},
   "outputs": [],
   "source": [
    "stream = ['2018-04-02', '2018-02-29', '2018-19-02']"
   ]
  },
  {
   "cell_type": "code",
   "execution_count": 44,
   "metadata": {},
   "outputs": [],
   "source": [
    "from datetime import datetime as dt"
   ]
  },
  {
   "cell_type": "code",
   "execution_count": 58,
   "metadata": {},
   "outputs": [],
   "source": [
    "def date_check(in_date):\n",
    "    '''\n",
    "    По объявленному значению даты проверяет ее корректность и соответствие формату\n",
    "    год-месяц-день и выдает true - если дата корректная, false - если дата не существует\n",
    "    '''\n",
    "    try:\n",
    "        dt.strptime(in_date, '%Y-%m-%d')\n",
    "        return True\n",
    "    except:\n",
    "        return False"
   ]
  },
  {
   "cell_type": "code",
   "execution_count": 60,
   "metadata": {},
   "outputs": [
    {
     "name": "stdout",
     "output_type": "stream",
     "text": [
      " 2018-19-02 - True\n",
      " 2018-19-02 - False\n",
      " 2018-19-02 - False\n"
     ]
    }
   ],
   "source": [
    "for date_ in stream:\n",
    "    print(f\" {in_date} - {date_check(date_)}\")"
   ]
  },
  {
   "cell_type": "markdown",
   "metadata": {},
   "source": [
    "[к оглавлению](#contents)"
   ]
  },
  {
   "cell_type": "markdown",
   "metadata": {},
   "source": [
    "<a id='task3'></a>\n",
    "## Задание 3"
   ]
  },
  {
   "cell_type": "code",
   "execution_count": 110,
   "metadata": {},
   "outputs": [],
   "source": [
    "def date_range(start_date, end_date):\n",
    "    '''\n",
    "    На основании начальной и конечно даты, вводимых в функции, проверяется соответствие дат формату\n",
    "    год-месяц-день, а также тому, что дата окончания позже начальной даты и выводит список дат в указанном интервале,\n",
    "    в случае невыполнения проверки - выводит пустой список\n",
    "    '''\n",
    "    from datetime import datetime as dt\n",
    "    from datetime import timedelta as td\n",
    "    \n",
    "    date_list = []\n",
    "    \n",
    "    if not date_check(start_date) or not date_check(end_date) or dt.strptime(end_date, '%Y-%m-%d') < dt.strptime(start_date, '%Y-%m-%d'):\n",
    "        return f\"Список всех дат интервала:\\n{date_list}\"\n",
    "    \n",
    "    cur_dt = dt.strptime(start_date, '%Y-%m-%d')\n",
    "    end_dt = dt.strptime(end_date, '%Y-%m-%d')\n",
    "    \n",
    "    while cur_dt <= end_dt:\n",
    "        date_list.append(cur_dt.strftime('%Y-%m-%d'))\n",
    "        cur_dt += td(days = 1)\n",
    "    return f\"Список всех дат интервала:\\n{date_list}\""
   ]
  },
  {
   "cell_type": "code",
   "execution_count": 117,
   "metadata": {},
   "outputs": [
    {
     "name": "stdout",
     "output_type": "stream",
     "text": [
      "Список всех дат интервала:\n",
      "[]\n"
     ]
    }
   ],
   "source": [
    "print(date_range('2019-1-16', '2019-1-15'))"
   ]
  },
  {
   "cell_type": "code",
   "execution_count": 118,
   "metadata": {},
   "outputs": [
    {
     "name": "stdout",
     "output_type": "stream",
     "text": [
      "Список всех дат интервала:\n",
      "['2019-01-01', '2019-01-02', '2019-01-03', '2019-01-04', '2019-01-05', '2019-01-06', '2019-01-07', '2019-01-08', '2019-01-09', '2019-01-10', '2019-01-11', '2019-01-12', '2019-01-13', '2019-01-14', '2019-01-15']\n"
     ]
    }
   ],
   "source": [
    "print(date_range('2019-1-1', '2019-1-15'))"
   ]
  },
  {
   "cell_type": "markdown",
   "metadata": {},
   "source": [
    "[к оглавлению](#contents)"
   ]
  },
  {
   "cell_type": "markdown",
   "metadata": {},
   "source": [
    "<a id='task4'></a>\n",
    "## Задание 4"
   ]
  },
  {
   "cell_type": "markdown",
   "metadata": {},
   "source": [
    "1. Что значит ошибка list index out of range?  \n",
    "__Ответ:__  \n",
    "Буквально означает, что индекс, по которому происходит обращение отсутствует в допустимом интервале индексов.\n",
    "2. Почему при первом запуске функция работает корректно, а при втором - нет?  \n",
    "__Ответ:__  \n",
    "Из-за того, что при работе функции удаление элементов списка производятся непосредственно в списке заданном в по умолчанию, а не над его копией:\n",
    " 1. при первом запуске из списка, состоящего из 3х элементов (индексы 0, 1 и 2) удаляется 3ий и остается 2 элемента (индексы 0 и 1). Функция находит 2ой элемент списка (с индексом 1) и возвращает его.\n",
    " 1. на второй итерации из оставшихся 2х элементов удаляется последний (с индексом 1) и остается только первый элемент (с индексом 0). Соответственно, найти 2ой элемент (с индексом 1) в списке из одного элемента с индексом 0 интерпретатор уже не может и возвращает ошибку."
   ]
  },
  {
   "cell_type": "markdown",
   "metadata": {},
   "source": [
    "[к оглавлению](#contents)"
   ]
  }
 ],
 "metadata": {
  "kernelspec": {
   "display_name": "Python 3",
   "language": "python",
   "name": "python3"
  },
  "language_info": {
   "codemirror_mode": {
    "name": "ipython",
    "version": 3
   },
   "file_extension": ".py",
   "mimetype": "text/x-python",
   "name": "python",
   "nbconvert_exporter": "python",
   "pygments_lexer": "ipython3",
   "version": "3.8.5"
  }
 },
 "nbformat": 4,
 "nbformat_minor": 4
}
